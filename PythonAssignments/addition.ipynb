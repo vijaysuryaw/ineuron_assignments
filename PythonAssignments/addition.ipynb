{
 "cells": [
  {
   "cell_type": "code",
   "execution_count": 3,
   "id": "ee96cd5e",
   "metadata": {},
   "outputs": [
    {
     "name": "stdout",
     "output_type": "stream",
     "text": [
      "Enter the first number:1\n",
      "Enter Another number:2\n",
      "The sum is:  3\n"
     ]
    }
   ],
   "source": [
    "# Adition of two numbers\n",
    "\n",
    "x = input(\"Enter the first number:\")\n",
    "y = input(\"Enter Another number:\")\n",
    "\n",
    "sum = int(x) + int(y)\n",
    "\n",
    "print(\"The sum is: \", sum)\n",
    "\n",
    "\n"
   ]
  },
  {
   "cell_type": "code",
   "execution_count": 9,
   "id": "c062e0f7",
   "metadata": {},
   "outputs": [
    {
     "name": "stdout",
     "output_type": "stream",
     "text": [
      "```\n",
      " iNeuroniNeuroniNeuroniNeuron\n",
      "```\n"
     ]
    }
   ],
   "source": [
    "## To print this output: ``` iNeuroniNeuroniNeuroniNeuron ```\n",
    "\n",
    "print('```')\n",
    "print(' iNeuroniNeuroniNeuroniNeuron')\n",
    "print('```')\n",
    "\n"
   ]
  },
  {
   "cell_type": "code",
   "execution_count": null,
   "id": "ea04b8bb",
   "metadata": {},
   "outputs": [],
   "source": []
  }
 ],
 "metadata": {
  "kernelspec": {
   "display_name": "Python 3 (ipykernel)",
   "language": "python",
   "name": "python3"
  },
  "language_info": {
   "codemirror_mode": {
    "name": "ipython",
    "version": 3
   },
   "file_extension": ".py",
   "mimetype": "text/x-python",
   "name": "python",
   "nbconvert_exporter": "python",
   "pygments_lexer": "ipython3",
   "version": "3.9.13"
  }
 },
 "nbformat": 4,
 "nbformat_minor": 5
}
