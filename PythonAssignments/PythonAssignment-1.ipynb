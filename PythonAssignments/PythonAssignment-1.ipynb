{
 "cells": [
  {
   "cell_type": "markdown",
   "id": "fa866f3e",
   "metadata": {},
   "source": [
    "Q1. Why do we call Python as a general purpose and high-level programming language?"
   ]
  },
  {
   "cell_type": "markdown",
   "id": "eef2914d",
   "metadata": {},
   "source": [
    "Python is a general-purpose programming language because it can be used to develop a wide variety of software applications, \n",
    "including Web development, Data science, Machine learning, Artificial intelligence, Game development, Embedded systems, \n",
    "GUI applications, Data visualization etc.\n",
    "\n",
    "Python is a high-level programming language because it is relatively easy to learn and use.It has a simple syntax that is \n",
    "similar to English, and it does not require programmers to manage low-level details \n",
    "such as memory management. This makes Python a good choice for both beginners and experienced programmers alike."
   ]
  }
 ],
 "metadata": {
  "kernelspec": {
   "display_name": "Python 3 (ipykernel)",
   "language": "python",
   "name": "python3"
  },
  "language_info": {
   "codemirror_mode": {
    "name": "ipython",
    "version": 3
   },
   "file_extension": ".py",
   "mimetype": "text/x-python",
   "name": "python",
   "nbconvert_exporter": "python",
   "pygments_lexer": "ipython3",
   "version": "3.9.13"
  }
 },
 "nbformat": 4,
 "nbformat_minor": 5
}
