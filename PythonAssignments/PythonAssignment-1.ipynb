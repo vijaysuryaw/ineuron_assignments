{
 "cells": [
  {
   "cell_type": "markdown",
   "id": "0d2cb2a9",
   "metadata": {},
   "source": [
    "Q1. Why do we call Python as a general purpose and high-level programming language?"
   ]
  },
  {
   "cell_type": "markdown",
   "id": "f20b9d1e",
   "metadata": {},
   "source": [
    "Python is a general-purpose programming language because it can be used to develop a wide variety of software applications, \n",
    "including Web development, Data science, Machine learning, Artificial intelligence, Game development, Embedded systems, \n",
    "GUI applications, Data visualization etc.\n",
    "\n",
    "Python is a high-level programming language because it is relatively easy to learn and use.It has a simple syntax that is \n",
    "similar to English, and it does not require programmers to manage low-level details \n",
    "such as memory management. This makes Python a good choice for both beginners and experienced programmers alike."
   ]
  },
  {
   "cell_type": "code",
   "execution_count": null,
   "id": "76d3bc15",
   "metadata": {},
   "outputs": [],
   "source": [
    "Q2. Why is Python called a dynamically typed language?"
   ]
  },
  {
   "cell_type": "code",
   "execution_count": null,
   "id": "eb1f5e25",
   "metadata": {},
   "outputs": [],
   "source": [
    "Python is called a dynamically typed language because the type of a variable is determined at runtime, rather than at compile \n",
    "time. This means that you do not need to declare the type of a variable before you assign a value to it. \n",
    "Python will automatically infer the type of the variable based on the value that is assigned to it.\n",
    "\n",
    "For example, in the following Python code:\n",
    "    \n",
    "x = 10\n",
    "y = \"hello\"\n",
    "\n",
    "The variable x is automatically inferred to be an integer because the value 10 is assigned to it. \n",
    "The variable y is automatically inferred to be a string because the value \"hello\" is assigned to it.\n",
    "\n",
    "Dynamic typing has a number of advantages. \n",
    "It makes Python code more concise and readable, and it allows for more flexibility in programming. \n",
    "However, it can also lead to errors if you are not careful. For example, if you try to add an integer and a string, \n",
    "Python will throw an error.\n",
    "    "
   ]
  },
  {
   "cell_type": "code",
   "execution_count": null,
   "id": "72661df5",
   "metadata": {},
   "outputs": [],
   "source": [
    "Q3. List some pros and cons of Python programming language?"
   ]
  },
  {
   "cell_type": "code",
   "execution_count": null,
   "id": "f428adfa",
   "metadata": {},
   "outputs": [],
   "source": [
    "Pros:\n",
    "\n",
    "Easy to learn and use\n",
    "Portable\n",
    "Powerful\n",
    "Versatile\n",
    "Large and active community\n",
    "Free and open-source\n",
    "Cons:\n",
    "\n",
    "Can be slow\n",
    "Not as well-suited for some tasks as other languages (e.g., game development)\n",
    "Dynamic typing can lead to errors"
   ]
  },
  {
   "cell_type": "code",
   "execution_count": null,
   "id": "cae66bbd",
   "metadata": {},
   "outputs": [],
   "source": [
    "Q4. In what all domains can we use Python?"
   ]
  },
  {
   "cell_type": "code",
   "execution_count": null,
   "id": "69c00ff8",
   "metadata": {},
   "outputs": [],
   "source": [
    "Python can be used in a wide range of domains, including:\n",
    "\n",
    "Web development\n",
    "Data science\n",
    "Machine learning\n",
    "Artificial intelligence\n",
    "Game development\n",
    "Embedded systems\n",
    "GUI applications\n",
    "Scientific computing\n",
    "Data visualization"
   ]
  },
  {
   "cell_type": "code",
   "execution_count": null,
   "id": "2073da25",
   "metadata": {},
   "outputs": [],
   "source": [
    "Q5. What are variable and how can we declare them?"
   ]
  },
  {
   "cell_type": "code",
   "execution_count": null,
   "id": "aebdfb9c",
   "metadata": {},
   "outputs": [],
   "source": [
    "A variable in Python is a name given to a memory location that stores a value. \n",
    "Variables can be used to store any type of data, such as numbers, strings, lists, and dictionaries.\n",
    "\n",
    "To declare a variable in Python, we simply need to assign a value to it. For example:\n",
    "\n",
    "my_variable = 10\n",
    "\n",
    "This code creates a variable named my_variable and assigns it the value 10.\n",
    "\n",
    "Variable names must follow these rules:\n",
    "\n",
    "They must start with a letter or the underscore character.\n",
    "They cannot start with a number.\n",
    "They can only contain alphanumeric characters and underscores (A-z, 0-9, and _).\n",
    "Variable names are case-sensitive (name, Name, and NAME are three different variables).\n",
    "The reserved words in Python cannot be used to name variables.\n",
    "\n",
    "Once you have declared a variable, we can use it in your code by referring to its name. For example:\n",
    "\n",
    "my_variable = 10\n",
    "print(my_variable)\n",
    "\n",
    "This code will print the value of the variable my_variable to the console."
   ]
  },
  {
   "cell_type": "code",
   "execution_count": null,
   "id": "d372076f",
   "metadata": {},
   "outputs": [],
   "source": [
    "Q6. How can we take an input from the user in Python?"
   ]
  },
  {
   "cell_type": "code",
   "execution_count": null,
   "id": "0db2bdb6",
   "metadata": {},
   "outputs": [],
   "source": [
    "To take input from the user in Python, you can use the input() function. \n",
    "The input() function takes a prompt message as an argument and displays it to the user. \n",
    "The user can then enter input and press Enter. The input() function will then return the user's input as a string.\n",
    "\n",
    "For example, the following code will take input from the user and print it to the console:\n",
    "\n",
    "user_input = input(\"Enter your name: \")\n",
    "print(f\"Hello, {user_input}!\")\n",
    "\n",
    "This code will display the message \"Enter your name: \" to the user. The user can then enter their name and press Enter. \n",
    "The input() function will then return the user's input as a string and assign it to the variable user_input. \n",
    "The code will then print the message \"Hello, {user_input}!\" to the console, replacing {user_input} with the user's input.\n",
    "\n",
    "We can also use the input() function to take input from the user and convert it to a different type of data, \n",
    "such as an integer or a float. To do this, you can use the int() and float() functions, respectively.\n",
    "\n",
    "For example, the following code will take input from the user and convert it to an integer:\n",
    "\n",
    "user_input = int(input(\"Enter your age: \"))\n",
    "print(f\"You are {user_input} years old.\")\n",
    "\n",
    "This code will display the message \"Enter your age: \" to the user. The user can then enter their age and press Enter. \n",
    "The input() function will then return the user's input as a string. \n",
    "The int() function will then convert the string to an integer and assign it to the variable user_input. \n",
    "The code will then print the message \"You are {user_input} years old.\" \n",
    "to the console, replacing {user_input} with the user's input.\n",
    "\n",
    "The input() function is a powerful tool that can be used to take input from the user in a variety of ways. \n",
    "By understanding how to use the input() function, you can write more interactive and user-friendly Python programs."
   ]
  },
  {
   "cell_type": "code",
   "execution_count": null,
   "id": "040153ec",
   "metadata": {},
   "outputs": [],
   "source": [
    "Q7. What is the default datatype of the value that has been taken as an input using input() function?"
   ]
  },
  {
   "cell_type": "code",
   "execution_count": null,
   "id": "0dc99abd",
   "metadata": {},
   "outputs": [],
   "source": [
    "The default datatype of the value that has been taken as an input using the input() function is string. \n",
    "This means that any input that the user enters will be converted to a string before it is returned by the input() function.\n",
    "\n",
    "For example, the following code will take input from the user and print it to the console:"
   ]
  },
  {
   "cell_type": "code",
   "execution_count": 7,
   "id": "a3351f75",
   "metadata": {},
   "outputs": [
    {
     "name": "stdout",
     "output_type": "stream",
     "text": [
      "Enter your name: 10\n",
      "10\n"
     ]
    }
   ],
   "source": [
    "user_input = input(\"Enter your name: \")\n",
    "print(user_input)"
   ]
  },
  {
   "cell_type": "code",
   "execution_count": null,
   "id": "943a0a2a",
   "metadata": {},
   "outputs": [],
   "source": [
    "Q8. What is type casting?"
   ]
  },
  {
   "cell_type": "code",
   "execution_count": null,
   "id": "c82f05e8",
   "metadata": {},
   "outputs": [],
   "source": [
    "Type casting is the process of converting one data type to another. \n",
    "This can be done using the built-in functions int(), float(), and str().\n",
    "\n",
    "int(): Converts a string or float to an integer.\n",
    "float(): Converts a string or integer to a float.\n",
    "str(): Converts an integer, float, or list to a string.\n",
    "\n",
    "For example, the following code will cast the string \"10\" to an integer:"
   ]
  },
  {
   "cell_type": "code",
   "execution_count": 8,
   "id": "243a361f",
   "metadata": {},
   "outputs": [
    {
     "name": "stdout",
     "output_type": "stream",
     "text": [
      "10\n"
     ]
    }
   ],
   "source": [
    "x = \"10\"\n",
    "y = int(x)\n",
    "\n",
    "print(y)"
   ]
  },
  {
   "cell_type": "code",
   "execution_count": null,
   "id": "dc6e485a",
   "metadata": {},
   "outputs": [],
   "source": [
    "Q9. Can we take more than one input from the user using single input() function? If yes, how? If no, why?"
   ]
  },
  {
   "cell_type": "code",
   "execution_count": null,
   "id": "ba0de527",
   "metadata": {},
   "outputs": [],
   "source": [
    "Yes, you can take more than one input from the user using a single input() function. \n",
    "To do this, you can use the split() method to split the user's input into a list of strings.\n",
    "\n",
    "The split() method takes a separator as an argument and splits the input string at the separator. \n",
    "If you do not specify a separator, the split() method will split \n",
    "the input string at whitespace characters (spaces, tabs, and newlines).\n",
    "\n",
    "For example, the following code will take input from the user and split it into a list of strings:"
   ]
  },
  {
   "cell_type": "code",
   "execution_count": 9,
   "id": "34ad6194",
   "metadata": {},
   "outputs": [
    {
     "name": "stdout",
     "output_type": "stream",
     "text": [
      "Enter your name and age: Vijay 32\n",
      "Hello, Vijay! You are 32 years old.\n"
     ]
    }
   ],
   "source": [
    "user_input = input(\"Enter your name and age: \")\n",
    "user_input_list = user_input.split()\n",
    "\n",
    "name = user_input_list[0]\n",
    "age = user_input_list[1]\n",
    "\n",
    "print(f\"Hello, {name}! You are {age} years old.\")"
   ]
  },
  {
   "cell_type": "code",
   "execution_count": null,
   "id": "b050ded6",
   "metadata": {},
   "outputs": [],
   "source": [
    "The split() method will then split the user's input into a list of strings, with each string representing a single word. \n",
    "The code will then assign the first element of the list to the variable name and the second element of \n",
    "the list to the variable age. The code will then print the message \"Hello, {name}! You are {age} years old.\" \n",
    "to the console, replacing {name} and {age} with the user's input.\n",
    "\n",
    "You can use the split() method to split the user's input into any number of strings. \n",
    "This allows you to take multiple inputs from the user using a single input() function."
   ]
  },
  {
   "cell_type": "code",
   "execution_count": null,
   "id": "65fc8f27",
   "metadata": {},
   "outputs": [],
   "source": [
    "Q10. What are keywords?"
   ]
  },
  {
   "cell_type": "code",
   "execution_count": null,
   "id": "39982e25",
   "metadata": {},
   "outputs": [],
   "source": [
    "Keywords are reserved words in a programming language that have special meaning to the compiler or interpreter. \n",
    "They cannot be used as variable names, function names, or other identifiers. \n",
    "Keywords are used to define the structure and flow of a program, and to specify the operations that the program should perform.\n",
    "\n",
    "For example, \n",
    "\n",
    "if\n",
    "else\n",
    "elif\n",
    "while\n",
    "for\n",
    "def\n",
    "class\n",
    "return\n",
    "import\n",
    "from\n",
    "print\n",
    "\n",
    "These keywords are used to define the flow of a program (such as the if and while statements), to define functions and classes, \n",
    "and to perform various operations (such as printing output to the console).\n",
    "\n",
    "Keywords are an important part of any programming language. By understanding the different keywords in a language, \n",
    "you can write more concise and efficient code.\n",
    "\n",
    "Examples of how keywords are used:"
   ]
  },
  {
   "cell_type": "code",
   "execution_count": 10,
   "id": "edbe4875",
   "metadata": {},
   "outputs": [
    {
     "name": "stdout",
     "output_type": "stream",
     "text": [
      "30\n"
     ]
    }
   ],
   "source": [
    "# This code defines a function called `add()` that takes two numbers as input and returns their sum.\n",
    "def add(x, y):\n",
    "  return x + y\n",
    "\n",
    "# This code calls the `add()` function to add the numbers 10 and 20 together.\n",
    "sum = add(10, 20)\n",
    "\n",
    "# This code prints the sum of 10 and 20 to the console.\n",
    "print(sum)\n"
   ]
  },
  {
   "cell_type": "code",
   "execution_count": null,
   "id": "00c3af4a",
   "metadata": {},
   "outputs": [],
   "source": [
    "In this code, the keywords def, return, and print are used to define the function, return the sum of the two numbers, \n",
    "and print the sum to the console, respectively."
   ]
  },
  {
   "cell_type": "code",
   "execution_count": null,
   "id": "99892bb2",
   "metadata": {},
   "outputs": [],
   "source": [
    "Q11. Can we use keywords as a variable? Support your answer with reason."
   ]
  },
  {
   "cell_type": "code",
   "execution_count": null,
   "id": "cbf65b48",
   "metadata": {},
   "outputs": [],
   "source": [
    "No, we cannot use keywords as a variable in Python. \n",
    "This is because keywords are reserved words that have special meaning to the Python compiler or interpreter. \n",
    "If we try to use a keyword as a variable, the Python compiler or interpreter will throw an error.\n",
    "\n",
    "For example, the following code will throw an error because the keyword if is a reserved word:"
   ]
  },
  {
   "cell_type": "code",
   "execution_count": 11,
   "id": "d5d4a030",
   "metadata": {},
   "outputs": [
    {
     "ename": "SyntaxError",
     "evalue": "invalid syntax (182722112.py, line 1)",
     "output_type": "error",
     "traceback": [
      "\u001b[1;36m  File \u001b[1;32m\"C:\\Users\\ASUS\\AppData\\Local\\Temp\\ipykernel_13376\\182722112.py\"\u001b[1;36m, line \u001b[1;32m1\u001b[0m\n\u001b[1;33m    if = 10\u001b[0m\n\u001b[1;37m       ^\u001b[0m\n\u001b[1;31mSyntaxError\u001b[0m\u001b[1;31m:\u001b[0m invalid syntax\n"
     ]
    }
   ],
   "source": [
    "if = 10"
   ]
  },
  {
   "cell_type": "code",
   "execution_count": null,
   "id": "599cf2b2",
   "metadata": {},
   "outputs": [],
   "source": [
    "The Python compiler or interpreter will complain that if is a keyword and cannot be used as a variable.\n",
    "\n",
    "There are a few reasons why we cannot use keywords as variables:\n",
    "\n",
    "Keywords are used to define the structure and flow of a program, and to specify the operations that the program should perform. \n",
    "If we could use keywords as variables, it would be difficult for the Python compiler or interpreter \n",
    "to understand the structure and flow of our program.\n",
    "\n",
    "Keywords are reserved words, which means that they have been set aside for special use by the Python compiler or interpreter. \n",
    "If we could use keywords as variables, it would conflict with the reserved use of those words.\n",
    "It is considered good programming practice to avoid using keywords as variables. \n",
    "This makes our code more readable and easier to maintain.\n",
    "\n",
    "Overall, there are several reasons why we cannot use keywords as variables in Python. \n",
    "It is best to avoid using keywords as variables and to use descriptive variable names instead."
   ]
  },
  {
   "cell_type": "code",
   "execution_count": null,
   "id": "284214b9",
   "metadata": {},
   "outputs": [],
   "source": [
    "Q12. What is indentation? What's the use of indentation in Python?"
   ]
  },
  {
   "cell_type": "code",
   "execution_count": null,
   "id": "f6c6475a",
   "metadata": {},
   "outputs": [],
   "source": [
    "Indentation in Python is a way of grouping statements together. It is done by adding spaces to the beginning of each line \n",
    "of code. The number of spaces that you add determines the indentation level of the line of code.\n",
    "\n",
    "Statements that are at the same indentation level are considered to be part of the same block of code. \n",
    "Blocks of code can be nested to create more complex structures.\n",
    "\n",
    "Indentation is used in Python to define the structure and flow of a program. \n",
    "It is required for all Python code, and it is one of the things that makes Python code so readable and maintainable.\n",
    "\n",
    "Example:"
   ]
  },
  {
   "cell_type": "code",
   "execution_count": 12,
   "id": "051fe729",
   "metadata": {},
   "outputs": [
    {
     "name": "stdout",
     "output_type": "stream",
     "text": [
      "30\n"
     ]
    }
   ],
   "source": [
    "def add(x, y):\n",
    "  \"\"\"Returns the sum of x and y.\"\"\"\n",
    "  return x + y\n",
    "\n",
    "# This code calls the add() function to add the numbers 10 and 20 together.\n",
    "sum = add(10, 20)\n",
    "\n",
    "# This code prints the sum of 10 and 20 to the console.\n",
    "print(sum)"
   ]
  },
  {
   "cell_type": "code",
   "execution_count": null,
   "id": "44ee6584",
   "metadata": {},
   "outputs": [],
   "source": [
    "In this code, the function definition and the function call are both indented at the same level. \n",
    "This indicates that they are both part of the same block of code. The print() statement is indented at a lower level, \n",
    "which indicates that it is part of a nested block of code.\n",
    "\n",
    "Indentation is an important part of Python programming. \n",
    "By understanding how to use indentation, you can write more readable and maintainable code.\n",
    "\n",
    "Some of the benefits of using indentation in Python:\n",
    "\n",
    "- Improved readability: Indentation makes Python code more readable by grouping statements together and making it \n",
    "    easier to see the structure of the code.\n",
    "\n",
    "- Reduced errors: Indentation can help to reduce errors by making it easier to spot missing or incorrect indentation.\n",
    "\n",
    "- Increased maintainability: Indentation makes Python code more maintainable by making it easier to understand and modify \n",
    "    the code.\n",
    "\n",
    "Overall, indentation is an important part of Python programming that provides many benefits. \n",
    "It is important to use indentation correctly to make our code more readable, error-free, and maintainable."
   ]
  },
  {
   "cell_type": "code",
   "execution_count": null,
   "id": "97574c53",
   "metadata": {},
   "outputs": [],
   "source": [
    "Q13. How can we throw some output in Python?"
   ]
  },
  {
   "cell_type": "code",
   "execution_count": null,
   "id": "9570af21",
   "metadata": {},
   "outputs": [],
   "source": [
    "There are two ways to throw output in Python:\n",
    "    \n",
    "Using the print() function: The print() function is used to print output to the console. \n",
    "It takes any number of arguments and prints them to the console, separated by spaces. \n",
    "For example, the following code will print the string \"Hello, world!\" to the console:"
   ]
  },
  {
   "cell_type": "code",
   "execution_count": 13,
   "id": "8dd90f32",
   "metadata": {},
   "outputs": [
    {
     "name": "stdout",
     "output_type": "stream",
     "text": [
      "Hello, world!\n"
     ]
    }
   ],
   "source": [
    "print(\"Hello, world!\")"
   ]
  },
  {
   "cell_type": "code",
   "execution_count": null,
   "id": "0c153ad5",
   "metadata": {},
   "outputs": [],
   "source": [
    "Using the sys.stdout object: The sys.stdout object is a file object that represents the standard output stream. \n",
    "It is used to write output to the console. To write output to the sys.stdout object, you can use the write() method. \n",
    "For example, the following code is equivalent to the previous example:"
   ]
  },
  {
   "cell_type": "code",
   "execution_count": 14,
   "id": "8a2784b5",
   "metadata": {},
   "outputs": [
    {
     "name": "stdout",
     "output_type": "stream",
     "text": [
      "Hello, world!\n"
     ]
    },
    {
     "data": {
      "text/plain": [
       "14"
      ]
     },
     "execution_count": 14,
     "metadata": {},
     "output_type": "execute_result"
    }
   ],
   "source": [
    "import sys\n",
    "sys.stdout.write(\"Hello, world!\\n\")"
   ]
  },
  {
   "cell_type": "code",
   "execution_count": null,
   "id": "2d61bfd8",
   "metadata": {},
   "outputs": [],
   "source": [
    "Which method you use to throw output is a matter of personal preference. However, the print() function is generally \n",
    "considered to be more readable and easier to use.\n",
    "\n",
    "In addition to throwing output to the console, we can also throw output to files, other devices, and even other programs. \n",
    "To do this, we can use the open() function to open a file or device object. Once you have opened a file or device object, \n",
    "you can use the write() method to write output to it.\n",
    "\n",
    "For example, the following code will write the string \"Hello, world!\" to the file myfile.txt:"
   ]
  },
  {
   "cell_type": "code",
   "execution_count": 17,
   "id": "62297579",
   "metadata": {},
   "outputs": [],
   "source": [
    "with open(\"myfile.txt\", \"w\") as f:\n",
    "    f.write(\"Hello, world!\")"
   ]
  },
  {
   "cell_type": "code",
   "execution_count": null,
   "id": "5ebff2bc",
   "metadata": {},
   "outputs": [],
   "source": [
    "Once we have finished writing output to a file or device, you should close it using the close() method.\n",
    "\n",
    "Overall, there are a number of ways to throw output in Python. The best method for you to use will depend on our specific needs."
   ]
  },
  {
   "cell_type": "code",
   "execution_count": null,
   "id": "904e477c",
   "metadata": {},
   "outputs": [],
   "source": [
    "Q14. What are operators in Python?"
   ]
  },
  {
   "cell_type": "code",
   "execution_count": null,
   "id": "508e82dc",
   "metadata": {},
   "outputs": [],
   "source": [
    "Operators in Python are symbols that are used to perform operations on data. \n",
    "There are many different types of operators in Python, including:\n",
    "\n",
    "Arithmetic operators: These operators are used to perform basic arithmetic operations, such as addition, subtraction, \n",
    "multiplication, and division.\n",
    "Comparison operators: These operators are used to compare two values and return a Boolean value (True or False).\n",
    "Logical operators: These operators are used to combine Boolean values and return a new Boolean value.\n",
    "Bitwise operators: These operators are used to perform bitwise operations on binary data.\n",
    "Identity operators: These operators are used to compare the identity of two objects.\n",
    "Membership operators: These operators are used to check if an element is present in a sequence.\n",
    "\n",
    "Examples of operators:"
   ]
  },
  {
   "cell_type": "code",
   "execution_count": 1,
   "id": "11dbc71b",
   "metadata": {
    "scrolled": true
   },
   "outputs": [
    {
     "name": "stdout",
     "output_type": "stream",
     "text": [
      "15\n",
      "5\n",
      "50\n",
      "2.0\n",
      "True\n",
      "False\n",
      "False\n",
      "True\n",
      "True\n",
      "True\n",
      "False\n",
      "0\n",
      "15\n",
      "15\n",
      "-11\n",
      "False\n",
      "True\n",
      "True\n",
      "False\n"
     ]
    },
    {
     "name": "stderr",
     "output_type": "stream",
     "text": [
      "<>:25: SyntaxWarning: \"is\" with a literal. Did you mean \"==\"?\n",
      "<>:26: SyntaxWarning: \"is not\" with a literal. Did you mean \"!=\"?\n",
      "<>:25: SyntaxWarning: \"is\" with a literal. Did you mean \"==\"?\n",
      "<>:26: SyntaxWarning: \"is not\" with a literal. Did you mean \"!=\"?\n",
      "C:\\Users\\ASUS\\AppData\\Local\\Temp\\ipykernel_9504\\1658975314.py:25: SyntaxWarning: \"is\" with a literal. Did you mean \"==\"?\n",
      "  print(10 is 5)  # False\n",
      "C:\\Users\\ASUS\\AppData\\Local\\Temp\\ipykernel_9504\\1658975314.py:26: SyntaxWarning: \"is not\" with a literal. Did you mean \"!=\"?\n",
      "  print(10 is not 5)  # True\n"
     ]
    }
   ],
   "source": [
    "# Arithmetic operators\n",
    "print(10 + 5)  # 15\n",
    "print(10 - 5)  # 5\n",
    "print(10 * 5)  # 50\n",
    "print(10 / 5)  # 2.0\n",
    "\n",
    "# Comparison operators\n",
    "print(10 > 5)  # True\n",
    "print(10 < 5)  # False\n",
    "print(10 == 5)  # False\n",
    "print(10 != 5)  # True\n",
    "\n",
    "# Logical operators\n",
    "print(10 > 5 and 10 < 20)  # True\n",
    "print(10 > 5 or 10 < 20)  # True\n",
    "print(not 10 > 5)  # False\n",
    "\n",
    "# Bitwise operators\n",
    "print(10 & 5)  # 0\n",
    "print(10 | 5)  # 15\n",
    "print(10 ^ 5)  # 15\n",
    "print(~10)  # -11\n",
    "\n",
    "# Identity operators\n",
    "print(10 is 5)  # False\n",
    "print(10 is not 5)  # True\n",
    "\n",
    "# Membership operators\n",
    "print(5 in [1, 2, 3, 4, 5])  # True\n",
    "print(5 not in [1, 2, 3, 4, 5])  # False\n"
   ]
  },
  {
   "cell_type": "code",
   "execution_count": null,
   "id": "26be349c",
   "metadata": {},
   "outputs": [],
   "source": [
    "Operators are a fundamental part of Python programming. \n",
    "By understanding how to use operators, we can write more concise and efficient code. Overall, operators are a powerful tool \n",
    "that can be used to perform a variety of tasks in Python. By understanding how to use operators, you can write more concise, \n",
    "efficient, and readable code."
   ]
  },
  {
   "cell_type": "code",
   "execution_count": null,
   "id": "67a55ee9",
   "metadata": {},
   "outputs": [],
   "source": [
    "Q15. What is difference between / and // operators?"
   ]
  },
  {
   "cell_type": "code",
   "execution_count": null,
   "id": "f21cf1d0",
   "metadata": {},
   "outputs": [],
   "source": [
    "The / and // operators in Python are both used to perform division on two numbers. \n",
    "However, there is a subtle difference between the two operators.\n",
    "\n",
    "The / operator performs floating-point division. \n",
    "This means that the result of the division operation is a floating-point number, even if the operands are integers.\n",
    "\n",
    "For example,"
   ]
  },
  {
   "cell_type": "code",
   "execution_count": 2,
   "id": "6185fbf0",
   "metadata": {},
   "outputs": [
    {
     "name": "stdout",
     "output_type": "stream",
     "text": [
      "2.0\n"
     ]
    }
   ],
   "source": [
    "print(10 / 5)"
   ]
  },
  {
   "cell_type": "code",
   "execution_count": null,
   "id": "2d2623df",
   "metadata": {},
   "outputs": [],
   "source": [
    "The // operator performs floor division. \n",
    "This means that the result of the division operation is the largest integer \n",
    "that is less than or equal to the quotient of the two operands.\n",
    "\n",
    "For example, "
   ]
  },
  {
   "cell_type": "code",
   "execution_count": 3,
   "id": "40ea5122",
   "metadata": {},
   "outputs": [
    {
     "name": "stdout",
     "output_type": "stream",
     "text": [
      "2\n"
     ]
    }
   ],
   "source": [
    "print(10 // 5)"
   ]
  },
  {
   "cell_type": "code",
   "execution_count": null,
   "id": "8da84b4c",
   "metadata": {},
   "outputs": [],
   "source": [
    "/\tPerforms floating-point division\n",
    "//\tPerforms floor division."
   ]
  },
  {
   "cell_type": "code",
   "execution_count": null,
   "id": "d53a0fb1",
   "metadata": {},
   "outputs": [],
   "source": [
    "Q16. Write a code that gives following as an output.\n",
    "```\n",
    "iNeuroniNeuroniNeuroniNeuron\n",
    "```"
   ]
  },
  {
   "cell_type": "code",
   "execution_count": 5,
   "id": "c4bf5e30",
   "metadata": {},
   "outputs": [
    {
     "name": "stdout",
     "output_type": "stream",
     "text": [
      "```\n",
      " iNeuroniNeuroniNeuroniNeuron\n",
      "```\n"
     ]
    }
   ],
   "source": [
    "print('```')\n",
    "print(' iNeuroniNeuroniNeuroniNeuron')\n",
    "print('```')"
   ]
  },
  {
   "cell_type": "code",
   "execution_count": null,
   "id": "6b1f2cde",
   "metadata": {},
   "outputs": [],
   "source": [
    "Q17. Write a code to take a number as an input from the user and check if the number is odd or even."
   ]
  },
  {
   "cell_type": "code",
   "execution_count": 1,
   "id": "519318fc",
   "metadata": {},
   "outputs": [
    {
     "name": "stdout",
     "output_type": "stream",
     "text": [
      "Enter a number: 10\n",
      "The number is even.\n"
     ]
    }
   ],
   "source": [
    "# Take a number as an input from the user\n",
    "num = int(input(\"Enter a number: \"))\n",
    "\n",
    "# Check if the number is odd or even\n",
    "if num % 2 == 0:\n",
    "    print(\"The number is even.\")\n",
    "else:\n",
    "    print(\"The number is odd.\")"
   ]
  },
  {
   "cell_type": "code",
   "execution_count": 2,
   "id": "19c47f65",
   "metadata": {},
   "outputs": [
    {
     "name": "stdout",
     "output_type": "stream",
     "text": [
      "Enter a number: 11\n",
      "The number is odd.\n"
     ]
    }
   ],
   "source": [
    "# Take a number as an input from the user\n",
    "num = int(input(\"Enter a number: \"))\n",
    "\n",
    "# Check if the number is odd or even\n",
    "if num % 2 == 0:\n",
    "    print(\"The number is even.\")\n",
    "else:\n",
    "    print(\"The number is odd.\")"
   ]
  },
  {
   "cell_type": "code",
   "execution_count": null,
   "id": "7b0b5bf6",
   "metadata": {},
   "outputs": [],
   "source": [
    "Q18. What are boolean operator?"
   ]
  },
  {
   "cell_type": "code",
   "execution_count": null,
   "id": "008a4674",
   "metadata": {},
   "outputs": [],
   "source": [
    "Boolean operators are operators that are used to combine Boolean values and return a new Boolean value. \n",
    "Boolean values are values that can be either True or False.\n",
    "\n",
    "There are three Boolean operators in Python:\n",
    "\n",
    "And: The and operator returns True if both of its operands are True. Otherwise, it returns False.\n",
    "Or: The or operator returns True if either of its operands is True. Otherwise, it returns False.\n",
    "Not: The not operator returns True if its operand is False. Otherwise, it returns False.\n",
    "    \n",
    "Examples:"
   ]
  },
  {
   "cell_type": "code",
   "execution_count": 1,
   "id": "fe4eee39",
   "metadata": {},
   "outputs": [
    {
     "name": "stdout",
     "output_type": "stream",
     "text": [
      "True\n",
      "True\n",
      "True\n"
     ]
    }
   ],
   "source": [
    "# True and True is True\n",
    "print(True and True)\n",
    "\n",
    "# True or False is True\n",
    "print(True or False)\n",
    "\n",
    "# Not False is True\n",
    "print(not False)"
   ]
  },
  {
   "cell_type": "code",
   "execution_count": null,
   "id": "707ed481",
   "metadata": {},
   "outputs": [],
   "source": [
    "Boolean operators are often used in control flow statements, such as if statements and while loops. \n",
    "For example, the following code uses an if statement to check if a number is even or odd:"
   ]
  },
  {
   "cell_type": "code",
   "execution_count": 2,
   "id": "872945a3",
   "metadata": {},
   "outputs": [
    {
     "name": "stdout",
     "output_type": "stream",
     "text": [
      "The number is even.\n"
     ]
    }
   ],
   "source": [
    "num = 10\n",
    "\n",
    "if num % 2 == 0:\n",
    "    print(\"The number is even.\")\n",
    "else:\n",
    "    print(\"The number is odd.\")\n"
   ]
  },
  {
   "cell_type": "code",
   "execution_count": null,
   "id": "c83bfcd2",
   "metadata": {},
   "outputs": [],
   "source": [
    "Q19. What will the output of the following?\n",
    "\n",
    "```\n",
    "1 or 0\n",
    "\n",
    "0 and 0\n",
    "\n",
    "True and False and True\n",
    "\n",
    "1 or 0 or 0\n",
    "```"
   ]
  },
  {
   "cell_type": "code",
   "execution_count": null,
   "id": "f41b85d1",
   "metadata": {},
   "outputs": [],
   "source": [
    "Output:\n",
    "\n",
    "True\n",
    "False\n",
    "False\n",
    "True"
   ]
  },
  {
   "cell_type": "code",
   "execution_count": null,
   "id": "ed60d640",
   "metadata": {},
   "outputs": [],
   "source": [
    "Q20. What are conditional statements in Python?"
   ]
  },
  {
   "cell_type": "code",
   "execution_count": null,
   "id": "888fa4a6",
   "metadata": {},
   "outputs": [],
   "source": [
    "Conditional statements are statements that allow us to control the flow of our program based on conditions that we specify. \n",
    "They provide a way to make decisions in our program and execute different code based on those decisions.\n",
    "\n",
    "The three most common conditional statements:\n",
    "    \n",
    "If statement: The if statement allows you to execute a block of code if a condition is met.\n",
    "Else statement: The else statement allows you to execute a block of code if a condition is not met.\n",
    "Elif statement: The elif statement allows you to execute a block of code if a condition is met, \n",
    "but only if previous conditions were not met.\n",
    "\n",
    "Example:"
   ]
  },
  {
   "cell_type": "code",
   "execution_count": 4,
   "id": "400574a9",
   "metadata": {},
   "outputs": [
    {
     "name": "stdout",
     "output_type": "stream",
     "text": [
      "The number is even.\n"
     ]
    }
   ],
   "source": [
    "num = 10\n",
    "\n",
    "if num % 2 == 0:\n",
    "    print(\"The number is even.\")\n",
    "else:\n",
    "    print(\"The number is odd.\")"
   ]
  },
  {
   "cell_type": "code",
   "execution_count": 5,
   "id": "de87a811",
   "metadata": {},
   "outputs": [
    {
     "name": "stdout",
     "output_type": "stream",
     "text": [
      "The number is even.\n"
     ]
    }
   ],
   "source": [
    "num = 10\n",
    "\n",
    "if num % 2 == 0:\n",
    "    print(\"The number is even.\")\n",
    "elif num % 3 == 0:\n",
    "    print(\"The number is divisible by 3.\")\n",
    "else:\n",
    "    print(\"The number is odd and not divisible by 3.\")"
   ]
  },
  {
   "cell_type": "code",
   "execution_count": null,
   "id": "59d8cd71",
   "metadata": {},
   "outputs": [],
   "source": [
    "Q21. What is use of 'if', 'elif' and 'else' keywords?"
   ]
  },
  {
   "cell_type": "code",
   "execution_count": null,
   "id": "4871be36",
   "metadata": {},
   "outputs": [],
   "source": [
    "The if, elif, and else keywords are used to create conditional statements.\n",
    "\n",
    "The if keyword is used to check if a condition is true. If the condition is true, \n",
    "the code block following the if statement is executed. \n",
    "Otherwise, the code block following the else statement is executed.\n",
    "\n",
    "The elif keyword is used to check if a condition is true, but only if the previous conditions in the if statement were false. \n",
    "If the condition is true, the code block following the elif statement is executed. \n",
    "Otherwise, the code block following the else statement is executed.\n",
    "\n",
    "The else keyword is used to define the code block that is executed if all of the previous conditions in \n",
    "the if and elif statements were false.\n",
    "\n",
    "Example:"
   ]
  },
  {
   "cell_type": "code",
   "execution_count": 6,
   "id": "c618346d",
   "metadata": {},
   "outputs": [
    {
     "name": "stdout",
     "output_type": "stream",
     "text": [
      "10 is greater than 5.\n"
     ]
    }
   ],
   "source": [
    "if 10 > 5:\n",
    "    print(\"10 is greater than 5.\")\n",
    "else:\n",
    "    print(\"10 is not greater than 5.\")"
   ]
  },
  {
   "cell_type": "code",
   "execution_count": null,
   "id": "655b4697",
   "metadata": {},
   "outputs": [],
   "source": [
    "Q22. Write a code to take the age of person as an input and if age >= 18 display \"I can vote\". \n",
    "If age is < 18 display \"I can't vote\"."
   ]
  },
  {
   "cell_type": "code",
   "execution_count": 8,
   "id": "f40452b7",
   "metadata": {},
   "outputs": [
    {
     "name": "stdout",
     "output_type": "stream",
     "text": [
      "Enter a age: 18\n",
      "I can vote.\n"
     ]
    }
   ],
   "source": [
    "age = int(input(\"Enter a age: \"))\n",
    "\n",
    "if age >= 18:\n",
    "    print(\"I can vote.\")\n",
    "else:\n",
    "    print(\"I can't vote.\")"
   ]
  },
  {
   "cell_type": "code",
   "execution_count": null,
   "id": "6b6bbd96",
   "metadata": {},
   "outputs": [],
   "source": [
    "Q23. Write a code that displays the sum of all the even numbers from the given list.\n",
    "```\n",
    "numbers = [12, 75, 150, 180, 145, 525, 50]\n",
    "```"
   ]
  },
  {
   "cell_type": "code",
   "execution_count": 9,
   "id": "4f33c2e6",
   "metadata": {},
   "outputs": [
    {
     "name": "stdout",
     "output_type": "stream",
     "text": [
      "392\n"
     ]
    }
   ],
   "source": [
    "numbers = [12, 75, 150, 180, 145, 525, 50]\n",
    "\n",
    "# Initialize the sum of even numbers\n",
    "sum_of_even_numbers = 0\n",
    "\n",
    "# Iterate over the list and add all the even numbers to the sum\n",
    "for number in numbers:\n",
    "    if number % 2 == 0:\n",
    "        sum_of_even_numbers += number\n",
    "\n",
    "# Display the sum of even numbers\n",
    "print(sum_of_even_numbers)\n"
   ]
  },
  {
   "cell_type": "code",
   "execution_count": null,
   "id": "a91cfc9a",
   "metadata": {},
   "outputs": [],
   "source": [
    "Q24. Write a code to take 3 numbers as an input from the user and display the greatest no as output."
   ]
  },
  {
   "cell_type": "code",
   "execution_count": 10,
   "id": "c75511b7",
   "metadata": {},
   "outputs": [
    {
     "name": "stdout",
     "output_type": "stream",
     "text": [
      "Enter the first number: 10\n",
      "Enter the second number: 20\n",
      "Enter the third number: 30\n",
      "The greatest number is: 30\n"
     ]
    }
   ],
   "source": [
    "# Take 3 numbers as an input from the user\n",
    "num1 = int(input(\"Enter the first number: \"))\n",
    "num2 = int(input(\"Enter the second number: \"))\n",
    "num3 = int(input(\"Enter the third number: \"))\n",
    "\n",
    "# Find the greatest number\n",
    "greatest_number = max(num1, num2, num3)\n",
    "\n",
    "# Display the greatest number\n",
    "print(\"The greatest number is:\", greatest_number)\n"
   ]
  },
  {
   "cell_type": "code",
   "execution_count": null,
   "id": "b0d282b8",
   "metadata": {},
   "outputs": [],
   "source": [
    "Q25. Write a program to display only those numbers from a list that satisfy the following conditions\n",
    "\n",
    "- The number must be divisible by five\n",
    "\n",
    "- If the number is greater than 150, then skip it and move to the next number\n",
    "\n",
    "- If the number is greater than 500, then stop the loop\n",
    "```\n",
    "numbers = [12, 75, 150, 180, 145, 525, 50]\n",
    "```"
   ]
  },
  {
   "cell_type": "code",
   "execution_count": 11,
   "id": "7a9df868",
   "metadata": {},
   "outputs": [
    {
     "name": "stdout",
     "output_type": "stream",
     "text": [
      "75\n",
      "150\n",
      "145\n"
     ]
    }
   ],
   "source": [
    "numbers = [12, 75, 150, 180, 145, 525, 50]\n",
    "\n",
    "# Iterate over the list and display the numbers that satisfy the conditions\n",
    "for number in numbers:\n",
    "    if number % 5 == 0 and number <= 150:\n",
    "        print(number)\n",
    "    elif number > 500:\n",
    "        break\n"
   ]
  },
  {
   "cell_type": "code",
   "execution_count": null,
   "id": "8fbe486d",
   "metadata": {},
   "outputs": [],
   "source": []
  }
 ],
 "metadata": {
  "kernelspec": {
   "display_name": "Python 3 (ipykernel)",
   "language": "python",
   "name": "python3"
  },
  "language_info": {
   "codemirror_mode": {
    "name": "ipython",
    "version": 3
   },
   "file_extension": ".py",
   "mimetype": "text/x-python",
   "name": "python",
   "nbconvert_exporter": "python",
   "pygments_lexer": "ipython3",
   "version": "3.9.13"
  }
 },
 "nbformat": 4,
 "nbformat_minor": 5
}
